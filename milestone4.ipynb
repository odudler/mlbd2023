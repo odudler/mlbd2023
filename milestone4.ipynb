{
 "cells": [
  {
   "cell_type": "markdown",
   "id": "1b193df6-e003-4c92-a32d-a4e9a73f497c",
   "metadata": {},
   "source": [
    "**Notebook for Milestone 4**"
   ]
  },
  {
   "cell_type": "code",
   "execution_count": 2,
   "id": "64cfb5f4-ace3-43d7-bbd6-35eec3b666b5",
   "metadata": {
    "tags": []
   },
   "outputs": [],
   "source": [
    "#Import libraries\n",
    "import pandas as pd\n",
    "import numpy as np\n",
    "import matplotlib.pyplot as plt\n",
    "import seaborn as sns\n",
    "\n",
    "#ML imports\n"
   ]
  },
  {
   "cell_type": "code",
   "execution_count": 4,
   "id": "47498a0e-6e96-4cc6-8162-f3e6ebd10a85",
   "metadata": {
    "tags": []
   },
   "outputs": [
    {
     "name": "stdout",
     "output_type": "stream",
     "text": [
      "Users: 64932, Events: 2185200, Subtasks: 3502884\n"
     ]
    }
   ],
   "source": [
    "#Load data\n",
    "users = pd.read_csv('./../data/full_calcularis_users.csv')\n",
    "events = pd.read_csv('./../data/full_calcularis_events.csv')\n",
    "subtasks = pd.read_csv('./../data/full_calcularis_subtasks.csv')\n",
    "\n",
    "print('Users: {}, Events: {}, Subtasks: {}'.format(len(users), len(events), len(subtasks)))"
   ]
  },
  {
   "cell_type": "markdown",
   "id": "57cdc6fc-1dd8-4822-b9b5-db03834fbcb7",
   "metadata": {},
   "source": [
    "**Clean up data**. This includes:\n",
    "    - *Add Items*"
   ]
  },
  {
   "cell_type": "code",
   "execution_count": null,
   "id": "71da2548-0bb0-4ce4-b15e-f3e7935d7bf7",
   "metadata": {},
   "outputs": [],
   "source": []
  },
  {
   "cell_type": "markdown",
   "id": "83ff9e01-6b62-4a0f-8424-60e615087d1f",
   "metadata": {},
   "source": [
    "**Create table with selected features**:\n",
    "- *per student/skill pair*:\n",
    "    - Correct response count\n",
    "    - Correct response in a row count\n",
    "    - Expected mean response time z-score\n",
    "    - Prior problem count with hint request\n",
    "    - prior problem count with at least 5 hint request\n",
    "- *per student*:\n",
    "    - Prior problem count fast correct\n",
    "    - Prior problem count normal correct\n",
    "    - Prior problem count slow correct\n",
    "    - Prior problem count fast incorrect\n",
    "    - Prior problem count normal incorrect\n",
    "    - Prior problem count slow incorrect\n",
    "    - Prior problem count with hint request in a row\n",
    "    - Prior problem count with at least 5 hint requests in a row\n",
    "- *per student/skill pair (I think?)*\n",
    "    - Prior problem count\n",
    "    - Skill ID\n"
   ]
  },
  {
   "cell_type": "code",
   "execution_count": null,
   "id": "41ec45c9-9f6f-45c4-a3ff-775904508f4a",
   "metadata": {},
   "outputs": [],
   "source": []
  },
  {
   "cell_type": "markdown",
   "id": "4c541a2b-1042-4810-b9af-5c0e55cc8254",
   "metadata": {},
   "source": [
    "**Add \"wheel-spinning\" column to DataFrame applying our definition of wheel-spinning:**\n",
    "- *Three in a row*\n",
    "- *Based on BLK*\n",
    "- *other?*"
   ]
  },
  {
   "cell_type": "code",
   "execution_count": null,
   "id": "2c7a46e5-4365-4cd5-8310-af1842fcd1ad",
   "metadata": {},
   "outputs": [],
   "source": []
  },
  {
   "cell_type": "markdown",
   "id": "5859746c-cedc-46c5-aa85-fe9e60eece68",
   "metadata": {
    "tags": []
   },
   "source": [
    "**Predict wheelspinning using e.g. Logistic Regression, compare result to labels**"
   ]
  },
  {
   "cell_type": "code",
   "execution_count": null,
   "id": "3025a85e-b5f6-4da2-8903-5aea680c2d07",
   "metadata": {},
   "outputs": [],
   "source": []
  }
 ],
 "metadata": {
  "kernelspec": {
   "display_name": "Python 3 (ipykernel)",
   "language": "python",
   "name": "python3"
  },
  "language_info": {
   "codemirror_mode": {
    "name": "ipython",
    "version": 3
   },
   "file_extension": ".py",
   "mimetype": "text/x-python",
   "name": "python",
   "nbconvert_exporter": "python",
   "pygments_lexer": "ipython3",
   "version": "3.9.7"
  }
 },
 "nbformat": 4,
 "nbformat_minor": 5
}
